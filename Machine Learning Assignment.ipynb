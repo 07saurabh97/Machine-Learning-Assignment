{
 "cells": [
  {
   "cell_type": "markdown",
   "id": "455c57cf-1178-4d0f-b90d-057cb2569f59",
   "metadata": {},
   "source": [
    "Q1: Explain the following with an example:"
   ]
  },
  {
   "cell_type": "markdown",
   "id": "790defd2-5e7e-47d0-852b-3d7280568098",
   "metadata": {},
   "source": [
    "1.\tArtificial Intelligence\n",
    "Artificial Intelligence (AI) refers to the development of computer system that can perform tasks that typically require human intelligence, such as:\n",
    "Learning- AI can learn from data and improve their performance over time\n",
    "Reasoning- AI can make decisions and draw conclusions based on the data and rules\n",
    "Problem Solving- AI can identify and solve complex problems\n",
    "Perception- AI can interpret and understand data from sensors, such as images, speech, and text\n",
    "Ex- Siri, Alexa, Google Assistant\n",
    "\n",
    "2.\tMachine Learning\n",
    "ML is subset of AI that involves training alogorithms to learn from data and make predictions or decisions without being explicity programmed.\n",
    "ML enables computers to learn from experience and improve their performance over time\n",
    "\n",
    "3.\tDeep Learning\n",
    "DL is subset of Machine Learning that involves the use of artificial neural network to model and solve complex problems. In DL system, there are typically multiple layers of neural networks that process and transform the data, allowing the system to learn complex patterns and relationship\n"
   ]
  },
  {
   "cell_type": "markdown",
   "id": "459f2d53-1d27-4a89-8204-cd3622f02df3",
   "metadata": {},
   "source": [
    "Q2: What is supervised learning? List some examples of supervised learning."
   ]
  },
  {
   "cell_type": "markdown",
   "id": "cf64a29e-22a6-4689-856d-6d8297cc29ac",
   "metadata": {},
   "source": [
    "Supervised Learning is type of ML where the algorithm is trained on labeled data, meaning the data is already annoted with the correct output\n",
    "The goal of supervised ML is to learn a mapping between input data and output labeles, so the algorithm can make prediction on new, unseen data.\n",
    "\n",
    "Example- A supervised model might be used to predict flight times based on specific parameters, such as weather conditions, airport traffic, peak flight hours, and more"
   ]
  },
  {
   "cell_type": "markdown",
   "id": "a3bf2edb-829d-4fb2-9238-12ce552c76bb",
   "metadata": {},
   "source": [
    "Q3: What is unsupervised learning? List some examples of unsupervised learning."
   ]
  },
  {
   "cell_type": "markdown",
   "id": "ba4b8cbe-1119-4d3a-9296-bfc7b70e971e",
   "metadata": {},
   "source": [
    "Unsupervised learning is a type of ML where the algorithm is trained on unlabeled data, means the data does not have a predefined output or response variable.\n",
    "The goal of unsupervised learning is to discover patterns, relationships, or structure in the data, without prior knowledge of the expected output\n",
    "\n",
    "Example- Imagine that you have a large dataset about weather. An unsupervised learning algorithm will go through the data and identify patterns in the data points. For instance, it might group data by temperature or similar weather patterns."
   ]
  },
  {
   "cell_type": "markdown",
   "id": "f49cacf7-c86e-406f-bcfb-ff60d4cf7112",
   "metadata": {},
   "source": [
    "Q4: What is the difference between AI, ML, DL, and DS?"
   ]
  },
  {
   "cell_type": "markdown",
   "id": "b6621825-ce09-4187-b21c-f52c4c3b349f",
   "metadata": {},
   "source": [
    "AI, ML, DL, and DS are interconnected concepts in the field of computer science, but they have distinct meanings and applications.\n",
    "\n",
    "Artificial Intelligence (AI) is the broader family that encompasses Machine Learning (ML) and Deep Learning (DL) as its components. AI refers to the development of computer systems that can perform tasks that would normally require human intelligence, such as reasoning, perception, and decision-making.\n",
    "\n",
    "Machine Learning (ML) is a subset of AI that focuses on developing algorithms that can learn from data and improve their performance over time without being explicitly programmed. ML is an application or subset of AI.\n",
    "\n",
    "Deep Learning (DL) is a subset of ML that focuses on developing deep neural networks that can automatically learn and extract features from data. DL is a ML algorithm that uses deep(more than one layer) neural networks to analyze data and provide output accordingly.\n",
    "\n",
    "Data Science (DS) uses algorithms, ML, and even DL to understand and uncover insights and knowledge from data, structured or unstructured. DS is the backbone of making sense of the digital universe."
   ]
  },
  {
   "cell_type": "markdown",
   "id": "58e8c58f-2884-4a67-8433-827b4dcdc638",
   "metadata": {},
   "source": [
    "Q5: What are the main differences between supervised, unsupervised, and semi-supervised learning?"
   ]
  },
  {
   "cell_type": "markdown",
   "id": "b786a29b-956e-44f0-9491-a6703a6ddd85",
   "metadata": {},
   "source": [
    "Supervised Learning\n",
    "\n",
    "In supervised learning, the model is trained on labeled data, where each example is accompanied by a target or response variable. The goal is to learn a mapping between input data and the corresponding output labels, so the model can make predictions on new, unseen data.\n",
    "\n",
    "Examples: Image classification, speech recognition, sentiment analysis.\n",
    "\n",
    "Unsupervised Learning\n",
    "\n",
    "In unsupervised learning, the model is trained on unlabeled data, and the goal is to discover patterns, relationships, or structure within the data. There is no target or response variable, and the model learns to identify clusters, dimensions, or anomalies in the data.\n",
    "\n",
    "Examples: Clustering customers based on buying behavior, dimensionality reduction, anomaly detection.\n",
    "\n",
    "Semi-Supervised Learning\n",
    "\n",
    "Semi-supervised learning combines elements of both supervised and unsupervised learning. The model is trained on a mix of labeled and unlabeled data, where the labeled data helps to guide the learning process, and the unlabeled data provides additional information to improve the model's performance.\n",
    "\n",
    "Examples: Speech recognition, natural language processing, recommender systems."
   ]
  },
  {
   "cell_type": "markdown",
   "id": "cfc0a01a-5ac0-4bca-ae3a-60978b9079ae",
   "metadata": {},
   "source": [
    "Q6: What is train, test and validation split? Explain the importance of each term."
   ]
  },
  {
   "cell_type": "markdown",
   "id": "03b925e4-5817-4595-b053-7cb205598804",
   "metadata": {},
   "source": [
    "Train, Test, and Validation Split\n",
    "\n",
    "In machine learning, a dataset is typically split into three subsets: training set (train), validation set, and test set. This division is crucial for ensuring the reliability and accuracy of a model's performance.\n",
    "\n",
    "Training Set (Train)\n",
    "\n",
    "The training set is the largest subset of the dataset, typically comprising 60-80% of the total data.\n",
    "The model is trained on this data, learning patterns and relationships between features and target variables.\n",
    "The training set is used to adjust the model's parameters, such as weights and biases, to minimize the loss function.\n",
    "\n",
    "Importance:\n",
    "\n",
    "The training set allows the model to learn from the data and make predictions.\n",
    "A larger training set generally leads to better model performance, but may also increase the risk of overfitting.\n",
    "\n",
    "Validation Set\n",
    "\n",
    "The validation set is a smaller subset of the dataset, typically comprising 10-20% of the total data.\n",
    "The model is evaluated on the validation set during training, providing an unbiased estimate of its performance.\n",
    "The validation set is used to tune hyperparameters, such as learning rate, regularization strength, and batch size.\n",
    "Importance:\n",
    "\n",
    "The validation set helps prevent overfitting by monitoring the model's performance on unseen data.\n",
    "It allows for hyperparameter tuning, which can significantly impact model performance.\n",
    "\n",
    "Test Set\n",
    "\n",
    "The test set is the smallest subset of the dataset, typically comprising 5-10% of the total data.\n",
    "The model is evaluated on the test set after training is complete, providing a final estimate of its performance.\n",
    "The test set is used to assess the model's generalizability to new, unseen data.\n",
    "Importance:\n",
    "\n",
    "The test set provides an unbiased estimate of the model's performance on new data.\n",
    "It helps evaluate the model's ability to generalize to different scenarios, ensuring its reliability in real-world applications."
   ]
  },
  {
   "cell_type": "markdown",
   "id": "69f0e6ba-6929-476c-b102-9d1f06cb6b02",
   "metadata": {},
   "source": [
    "Q7: How can unsupervised learning be used in anomaly detection?"
   ]
  },
  {
   "cell_type": "markdown",
   "id": "b9d52b36-95e5-41b3-a1d9-8c5212be32b1",
   "metadata": {},
   "source": [
    "Unsupervised learning is particularly well-suited for anomaly detection, as it allows the model to identify patterns and outliers in the data without prior knowledge of what constitutes an anomaly. Here are some ways unsupervised learning can be used in anomaly detection:\n",
    "\n",
    "1. Density-Based Methods\n",
    "\n",
    "Density-based methods, such as DBSCAN (Density-Based Spatial Clustering of Applications with Noise), identify anomalies as data points that are farthest from the dense regions of the data. These methods are effective in detecting anomalies that are not part of any cluster or pattern in the data.\n",
    "\n",
    "2. Clustering-Based Methods\n",
    "\n",
    "Clustering-based methods, such as k-means or hierarchical clustering, group similar data points into clusters. Anomalies are then identified as data points that do not fit into any cluster or are farthest from the centroid of their assigned cluster.\n",
    "\n",
    "3. One-Class SVM\n",
    "\n",
    "One-Class SVM (Support Vector Machine) is a type of unsupervised learning algorithm that learns to recognize the normal behavior of the data. It identifies anomalies as data points that fall outside the decision boundary of the normal behavior.\n",
    "\n",
    "4. Local Outlier Factor (LOF)\n",
    "\n",
    "LOF is a density-based method that calculates the local density of each data point and identifies anomalies as points with a low density compared to their neighbors.\n",
    "\n",
    "5. Isolation Forest\n",
    "\n",
    "Isolation Forest is an ensemble method that combines multiple decision trees to identify anomalies. It works by isolating each data point and identifying those that are most difficult to isolate as anomalies.\n",
    "\n",
    "6. Autoencoders\n",
    "\n",
    "Autoencoders are neural networks that learn to reconstruct the input data. Anomalies are identified as data points that cannot be reconstructed accurately, indicating that they do not conform to the normal pattern of the data"
   ]
  },
  {
   "cell_type": "markdown",
   "id": "3586fb7f-e252-46f6-9bdf-4bd3327e71eb",
   "metadata": {},
   "source": [
    "Q8: List down some commonly used supervised learning algorithms and unsupervised learning\n",
    "algorithms."
   ]
  },
  {
   "cell_type": "markdown",
   "id": "7ac181ec-4c4e-42e6-8e07-daa3199ca45c",
   "metadata": {},
   "source": [
    "Supervised Learning Algorithm-\n",
    "1. Linear Regression\n",
    "2. Logistic Regression\n",
    "3. Decision Tree\n",
    "4. Random Forest\n",
    "5. Support vector Machine (SVM)\n",
    "\n",
    "Unsupervised Learning Algorithim-\n",
    "1. K-Means Clustering\n",
    "2. Hierarchical Clustering\n",
    "3. Principal Component Analysis (PCA)\n",
    "4. t-SNE (t-Distributed Stochastic Neighbor Embedding) \n"
   ]
  },
  {
   "cell_type": "code",
   "execution_count": null,
   "id": "ee25c00d-6bb3-49e3-8b17-d8fce48d2b0e",
   "metadata": {},
   "outputs": [],
   "source": []
  }
 ],
 "metadata": {
  "kernelspec": {
   "display_name": "Python 3 (ipykernel)",
   "language": "python",
   "name": "python3"
  },
  "language_info": {
   "codemirror_mode": {
    "name": "ipython",
    "version": 3
   },
   "file_extension": ".py",
   "mimetype": "text/x-python",
   "name": "python",
   "nbconvert_exporter": "python",
   "pygments_lexer": "ipython3",
   "version": "3.10.8"
  }
 },
 "nbformat": 4,
 "nbformat_minor": 5
}
